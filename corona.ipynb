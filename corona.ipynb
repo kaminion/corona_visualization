{
 "metadata": {
  "language_info": {
   "codemirror_mode": {
    "name": "ipython",
    "version": 3
   },
   "file_extension": ".py",
   "mimetype": "text/x-python",
   "name": "python",
   "nbconvert_exporter": "python",
   "pygments_lexer": "ipython3",
   "version": "3.8.3-final"
  },
  "orig_nbformat": 2,
  "kernelspec": {
   "name": "python3",
   "display_name": "Python 3.8.3 64-bit (conda)",
   "metadata": {
    "interpreter": {
     "hash": "b3ba2566441a7c06988d0923437866b63cedc61552a5af99d1f4fb67d367b25f"
    }
   }
  }
 },
 "nbformat": 4,
 "nbformat_minor": 2,
 "cells": [
  {
   "cell_type": "code",
   "execution_count": 8,
   "metadata": {},
   "outputs": [
    {
     "output_type": "stream",
     "name": "stdout",
     "text": [
      "Collecting folium\n  Downloading folium-0.12.1-py2.py3-none-any.whl (94 kB)\nRequirement already satisfied: numpy in c:\\programdata\\anaconda3\\lib\\site-packages (from folium) (1.18.5)\nCollecting branca>=0.3.0\n  Downloading branca-0.4.2-py3-none-any.whl (24 kB)\nRequirement already satisfied: requests in c:\\programdata\\anaconda3\\lib\\site-packages (from folium) (2.24.0)\nRequirement already satisfied: jinja2>=2.9 in c:\\programdata\\anaconda3\\lib\\site-packages (from folium) (2.11.2)\nRequirement already satisfied: certifi>=2017.4.17 in c:\\programdata\\anaconda3\\lib\\site-packages (from requests->folium) (2020.6.20)\nRequirement already satisfied: idna<3,>=2.5 in c:\\programdata\\anaconda3\\lib\\site-packages (from requests->folium) (2.10)\nRequirement already satisfied: urllib3!=1.25.0,!=1.25.1,<1.26,>=1.21.1 in c:\\programdata\\anaconda3\\lib\\site-packages (from requests->folium) (1.25.9)\nRequirement already satisfied: chardet<4,>=3.0.2 in c:\\programdata\\anaconda3\\lib\\site-packages (from requests->folium) (3.0.4)\nRequirement already satisfied: MarkupSafe>=0.23 in c:\\programdata\\anaconda3\\lib\\site-packages (from jinja2>=2.9->folium) (1.1.1)\nInstalling collected packages: branca, folium\nSuccessfully installed branca-0.4.2 folium-0.12.1\n"
     ]
    }
   ],
   "source": [
    "!pip install folium"
   ]
  },
  {
   "cell_type": "code",
   "execution_count": 9,
   "metadata": {},
   "outputs": [],
   "source": [
    "import pandas as pd\n",
    "import matplotlib as mpl\n",
    "import matplotlib.pyplot as plt\n",
    "import folium\n"
   ]
  },
  {
   "cell_type": "code",
   "execution_count": 10,
   "metadata": {},
   "outputs": [],
   "source": [
    "data = pd.read_csv('./data/COVID_Data.csv')"
   ]
  },
  {
   "cell_type": "code",
   "execution_count": 12,
   "metadata": {},
   "outputs": [
    {
     "output_type": "execute_result",
     "data": {
      "text/plain": [
       "Unnamed: 0      0\n",
       "Country         0\n",
       "Date            0\n",
       "Confirmed       0\n",
       "Death           0\n",
       "newConfirmed    0\n",
       "newDeath        0\n",
       "dtype: int64"
      ]
     },
     "metadata": {},
     "execution_count": 12
    }
   ],
   "source": [
    "data.isnull().sum()"
   ]
  },
  {
   "cell_type": "code",
   "execution_count": 14,
   "metadata": {},
   "outputs": [
    {
     "output_type": "stream",
     "name": "stdout",
     "text": [
      "<class 'pandas.core.frame.DataFrame'>\nRangeIndex: 54522 entries, 0 to 54521\nData columns (total 7 columns):\n #   Column        Non-Null Count  Dtype \n---  ------        --------------  ----- \n 0   Unnamed: 0    54522 non-null  int64 \n 1   Country       54522 non-null  object\n 2   Date          54522 non-null  object\n 3   Confirmed     54522 non-null  int64 \n 4   Death         54522 non-null  int64 \n 5   newConfirmed  54522 non-null  int64 \n 6   newDeath      54522 non-null  int64 \ndtypes: int64(5), object(2)\nmemory usage: 2.9+ MB\n"
     ]
    }
   ],
   "source": [
    "data.info() # 데이터타입 확인"
   ]
  },
  {
   "cell_type": "code",
   "execution_count": 15,
   "metadata": {},
   "outputs": [
    {
     "output_type": "execute_result",
     "data": {
      "text/plain": [
       "       Unnamed: 0      Country        Date  Confirmed  Death  newConfirmed  \\\n",
       "0               1  Afghanistan  2019-12-31          0      0             0   \n",
       "1               2  Afghanistan  2020-01-01          0      0             0   \n",
       "2               3  Afghanistan  2020-01-02          0      0             0   \n",
       "3               4  Afghanistan  2020-01-03          0      0             0   \n",
       "4               5  Afghanistan  2020-01-04          0      0             0   \n",
       "...           ...          ...         ...        ...    ...           ...   \n",
       "54517       55096     Zimbabwe  2020-11-02       8389    245            15   \n",
       "54518       55097     Zimbabwe  2020-11-03       8410    246            21   \n",
       "54519       55098     Zimbabwe  2020-11-04       8427    248            17   \n",
       "54520       55099     Zimbabwe  2020-11-05       8444    248            17   \n",
       "54521       55100     Zimbabwe  2020-11-06       8471    250            27   \n",
       "\n",
       "       newDeath  \n",
       "0             0  \n",
       "1             0  \n",
       "2             0  \n",
       "3             0  \n",
       "4             0  \n",
       "...         ...  \n",
       "54517         2  \n",
       "54518         1  \n",
       "54519         2  \n",
       "54520         0  \n",
       "54521         2  \n",
       "\n",
       "[54522 rows x 7 columns]"
      ],
      "text/html": "<div>\n<style scoped>\n    .dataframe tbody tr th:only-of-type {\n        vertical-align: middle;\n    }\n\n    .dataframe tbody tr th {\n        vertical-align: top;\n    }\n\n    .dataframe thead th {\n        text-align: right;\n    }\n</style>\n<table border=\"1\" class=\"dataframe\">\n  <thead>\n    <tr style=\"text-align: right;\">\n      <th></th>\n      <th>Unnamed: 0</th>\n      <th>Country</th>\n      <th>Date</th>\n      <th>Confirmed</th>\n      <th>Death</th>\n      <th>newConfirmed</th>\n      <th>newDeath</th>\n    </tr>\n  </thead>\n  <tbody>\n    <tr>\n      <th>0</th>\n      <td>1</td>\n      <td>Afghanistan</td>\n      <td>2019-12-31</td>\n      <td>0</td>\n      <td>0</td>\n      <td>0</td>\n      <td>0</td>\n    </tr>\n    <tr>\n      <th>1</th>\n      <td>2</td>\n      <td>Afghanistan</td>\n      <td>2020-01-01</td>\n      <td>0</td>\n      <td>0</td>\n      <td>0</td>\n      <td>0</td>\n    </tr>\n    <tr>\n      <th>2</th>\n      <td>3</td>\n      <td>Afghanistan</td>\n      <td>2020-01-02</td>\n      <td>0</td>\n      <td>0</td>\n      <td>0</td>\n      <td>0</td>\n    </tr>\n    <tr>\n      <th>3</th>\n      <td>4</td>\n      <td>Afghanistan</td>\n      <td>2020-01-03</td>\n      <td>0</td>\n      <td>0</td>\n      <td>0</td>\n      <td>0</td>\n    </tr>\n    <tr>\n      <th>4</th>\n      <td>5</td>\n      <td>Afghanistan</td>\n      <td>2020-01-04</td>\n      <td>0</td>\n      <td>0</td>\n      <td>0</td>\n      <td>0</td>\n    </tr>\n    <tr>\n      <th>...</th>\n      <td>...</td>\n      <td>...</td>\n      <td>...</td>\n      <td>...</td>\n      <td>...</td>\n      <td>...</td>\n      <td>...</td>\n    </tr>\n    <tr>\n      <th>54517</th>\n      <td>55096</td>\n      <td>Zimbabwe</td>\n      <td>2020-11-02</td>\n      <td>8389</td>\n      <td>245</td>\n      <td>15</td>\n      <td>2</td>\n    </tr>\n    <tr>\n      <th>54518</th>\n      <td>55097</td>\n      <td>Zimbabwe</td>\n      <td>2020-11-03</td>\n      <td>8410</td>\n      <td>246</td>\n      <td>21</td>\n      <td>1</td>\n    </tr>\n    <tr>\n      <th>54519</th>\n      <td>55098</td>\n      <td>Zimbabwe</td>\n      <td>2020-11-04</td>\n      <td>8427</td>\n      <td>248</td>\n      <td>17</td>\n      <td>2</td>\n    </tr>\n    <tr>\n      <th>54520</th>\n      <td>55099</td>\n      <td>Zimbabwe</td>\n      <td>2020-11-05</td>\n      <td>8444</td>\n      <td>248</td>\n      <td>17</td>\n      <td>0</td>\n    </tr>\n    <tr>\n      <th>54521</th>\n      <td>55100</td>\n      <td>Zimbabwe</td>\n      <td>2020-11-06</td>\n      <td>8471</td>\n      <td>250</td>\n      <td>27</td>\n      <td>2</td>\n    </tr>\n  </tbody>\n</table>\n<p>54522 rows × 7 columns</p>\n</div>"
     },
     "metadata": {},
     "execution_count": 15
    }
   ],
   "source": [
    "data"
   ]
  },
  {
   "cell_type": "code",
   "execution_count": 17,
   "metadata": {},
   "outputs": [
    {
     "output_type": "stream",
     "name": "stdout",
     "text": [
      "<class 'pandas.core.frame.DataFrame'>\nRangeIndex: 54522 entries, 0 to 54521\nData columns (total 7 columns):\n #   Column        Non-Null Count  Dtype         \n---  ------        --------------  -----         \n 0   Unnamed: 0    54522 non-null  int64         \n 1   Country       54522 non-null  object        \n 2   Date          54522 non-null  datetime64[ns]\n 3   Confirmed     54522 non-null  int64         \n 4   Death         54522 non-null  int64         \n 5   newConfirmed  54522 non-null  int64         \n 6   newDeath      54522 non-null  int64         \ndtypes: datetime64[ns](1), int64(5), object(1)\nmemory usage: 2.9+ MB\n"
     ]
    }
   ],
   "source": [
    "# Data 정보 수정 (Object => datatime)\n",
    "data['Date'] = pd.to_datetime(data['Date'])\n",
    "data.info()"
   ]
  },
  {
   "cell_type": "code",
   "execution_count": null,
   "metadata": {},
   "outputs": [],
   "source": []
  },
  {
   "cell_type": "code",
   "execution_count": null,
   "metadata": {},
   "outputs": [],
   "source": []
  },
  {
   "cell_type": "code",
   "execution_count": null,
   "metadata": {},
   "outputs": [],
   "source": []
  },
  {
   "cell_type": "code",
   "execution_count": null,
   "metadata": {},
   "outputs": [],
   "source": []
  }
 ]
}